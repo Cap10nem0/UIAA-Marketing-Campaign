{
  "cells": [
    {
      "cell_type": "code",
      "source": [
        "from google.colab import drive\n",
        "drive.mount('/content/gdrive')"
      ],
      "metadata": {
        "colab": {
          "base_uri": "https://localhost:8080/"
        },
        "id": "0YKsEO2OOslL",
        "outputId": "80dbe613-491a-4c41-add1-679c4326f41f"
      },
      "execution_count": null,
      "outputs": [
        {
          "output_type": "stream",
          "name": "stdout",
          "text": [
            "Drive already mounted at /content/gdrive; to attempt to forcibly remount, call drive.mount(\"/content/gdrive\", force_remount=True).\n"
          ]
        }
      ]
    },
    {
      "cell_type": "code",
      "execution_count": null,
      "metadata": {
        "id": "hSk3TlGVOoX8"
      },
      "outputs": [],
      "source": [
        "import pandas as pd"
      ]
    },
    {
      "cell_type": "code",
      "source": [
        "\n",
        "file_path = '/content/gdrive/My Drive/IS 497 - Marketing Analytics/Membership_Updated.xlsx'\n",
        "\n",
        "# Load the Excel file into a pandas dataframe\n",
        "member = pd.read_excel(file_path)\n"
      ],
      "metadata": {
        "id": "jmcCkVTrOxvS"
      },
      "execution_count": null,
      "outputs": []
    },
    {
      "cell_type": "code",
      "execution_count": null,
      "metadata": {
        "colab": {
          "base_uri": "https://localhost:8080/",
          "height": 441
        },
        "id": "7f987VxAOoX_",
        "outputId": "1798f0ae-af91-4def-e1c5-fd20d87cf24d"
      },
      "outputs": [
        {
          "output_type": "execute_result",
          "data": {
            "text/plain": [
              "   Lookup ID  Age  Gender Marital status               City       State  \\\n",
              "0   11488038   72    Male        Married            Clinton    Illinois   \n",
              "1   13663683   28    Male        Unknown            Chengdu     Sichuan   \n",
              "2   11535019   70  Female        Married     Evergreen Park    Illinois   \n",
              "3   12068148   59    Male        Married           Coronado  California   \n",
              "4   11434386   76  Female       Widow/er  Elk Grove Village    Illinois   \n",
              "\n",
              "         Country Email  Class of                            College  \\\n",
              "0  United States   Yes    1972.0  1KL-Agr, Consumer, & Env Sciences   \n",
              "1          China   Yes    2018.0                            1KU-Law   \n",
              "2  United States   Yes    1974.0                                NaN   \n",
              "3  United States   Yes    1986.0        1KY-Applied Health Sciences   \n",
              "4  United States   Yes       NaN                                NaN   \n",
              "\n",
              "                    Degree Enrolled Via Enrollment Date  \\\n",
              "0  BS: Bachelor of Science    No record      1900-01-01   \n",
              "1      LLM: Master of Laws    No record      1900-01-01   \n",
              "2     BA: Bachelor of Arts    No record      1900-01-01   \n",
              "3  BS: Bachelor of Science    No record      1900-01-01   \n",
              "4                      NaN    Main site      2022-02-08   \n",
              "\n",
              "   Total Donation Amount  Cumulative Lifetime Donation Years  \\\n",
              "0                   0.00                                   0   \n",
              "1                   0.00                                   0   \n",
              "2                   0.00                                   0   \n",
              "3                   0.00                                   0   \n",
              "4               17114.83                                  39   \n",
              "\n",
              "   Consecutive Years of Giving  If Donated  \n",
              "0                            0           0  \n",
              "1                            0           0  \n",
              "2                            0           0  \n",
              "3                            0           0  \n",
              "4                           24           1  "
            ],
            "text/html": [
              "\n",
              "  <div id=\"df-9eac4a27-1705-4367-b7b9-d57a5873b69b\">\n",
              "    <div class=\"colab-df-container\">\n",
              "      <div>\n",
              "<style scoped>\n",
              "    .dataframe tbody tr th:only-of-type {\n",
              "        vertical-align: middle;\n",
              "    }\n",
              "\n",
              "    .dataframe tbody tr th {\n",
              "        vertical-align: top;\n",
              "    }\n",
              "\n",
              "    .dataframe thead th {\n",
              "        text-align: right;\n",
              "    }\n",
              "</style>\n",
              "<table border=\"1\" class=\"dataframe\">\n",
              "  <thead>\n",
              "    <tr style=\"text-align: right;\">\n",
              "      <th></th>\n",
              "      <th>Lookup ID</th>\n",
              "      <th>Age</th>\n",
              "      <th>Gender</th>\n",
              "      <th>Marital status</th>\n",
              "      <th>City</th>\n",
              "      <th>State</th>\n",
              "      <th>Country</th>\n",
              "      <th>Email</th>\n",
              "      <th>Class of</th>\n",
              "      <th>College</th>\n",
              "      <th>Degree</th>\n",
              "      <th>Enrolled Via</th>\n",
              "      <th>Enrollment Date</th>\n",
              "      <th>Total Donation Amount</th>\n",
              "      <th>Cumulative Lifetime Donation Years</th>\n",
              "      <th>Consecutive Years of Giving</th>\n",
              "      <th>If Donated</th>\n",
              "    </tr>\n",
              "  </thead>\n",
              "  <tbody>\n",
              "    <tr>\n",
              "      <th>0</th>\n",
              "      <td>11488038</td>\n",
              "      <td>72</td>\n",
              "      <td>Male</td>\n",
              "      <td>Married</td>\n",
              "      <td>Clinton</td>\n",
              "      <td>Illinois</td>\n",
              "      <td>United States</td>\n",
              "      <td>Yes</td>\n",
              "      <td>1972.0</td>\n",
              "      <td>1KL-Agr, Consumer, &amp; Env Sciences</td>\n",
              "      <td>BS: Bachelor of Science</td>\n",
              "      <td>No record</td>\n",
              "      <td>1900-01-01</td>\n",
              "      <td>0.00</td>\n",
              "      <td>0</td>\n",
              "      <td>0</td>\n",
              "      <td>0</td>\n",
              "    </tr>\n",
              "    <tr>\n",
              "      <th>1</th>\n",
              "      <td>13663683</td>\n",
              "      <td>28</td>\n",
              "      <td>Male</td>\n",
              "      <td>Unknown</td>\n",
              "      <td>Chengdu</td>\n",
              "      <td>Sichuan</td>\n",
              "      <td>China</td>\n",
              "      <td>Yes</td>\n",
              "      <td>2018.0</td>\n",
              "      <td>1KU-Law</td>\n",
              "      <td>LLM: Master of Laws</td>\n",
              "      <td>No record</td>\n",
              "      <td>1900-01-01</td>\n",
              "      <td>0.00</td>\n",
              "      <td>0</td>\n",
              "      <td>0</td>\n",
              "      <td>0</td>\n",
              "    </tr>\n",
              "    <tr>\n",
              "      <th>2</th>\n",
              "      <td>11535019</td>\n",
              "      <td>70</td>\n",
              "      <td>Female</td>\n",
              "      <td>Married</td>\n",
              "      <td>Evergreen Park</td>\n",
              "      <td>Illinois</td>\n",
              "      <td>United States</td>\n",
              "      <td>Yes</td>\n",
              "      <td>1974.0</td>\n",
              "      <td>NaN</td>\n",
              "      <td>BA: Bachelor of Arts</td>\n",
              "      <td>No record</td>\n",
              "      <td>1900-01-01</td>\n",
              "      <td>0.00</td>\n",
              "      <td>0</td>\n",
              "      <td>0</td>\n",
              "      <td>0</td>\n",
              "    </tr>\n",
              "    <tr>\n",
              "      <th>3</th>\n",
              "      <td>12068148</td>\n",
              "      <td>59</td>\n",
              "      <td>Male</td>\n",
              "      <td>Married</td>\n",
              "      <td>Coronado</td>\n",
              "      <td>California</td>\n",
              "      <td>United States</td>\n",
              "      <td>Yes</td>\n",
              "      <td>1986.0</td>\n",
              "      <td>1KY-Applied Health Sciences</td>\n",
              "      <td>BS: Bachelor of Science</td>\n",
              "      <td>No record</td>\n",
              "      <td>1900-01-01</td>\n",
              "      <td>0.00</td>\n",
              "      <td>0</td>\n",
              "      <td>0</td>\n",
              "      <td>0</td>\n",
              "    </tr>\n",
              "    <tr>\n",
              "      <th>4</th>\n",
              "      <td>11434386</td>\n",
              "      <td>76</td>\n",
              "      <td>Female</td>\n",
              "      <td>Widow/er</td>\n",
              "      <td>Elk Grove Village</td>\n",
              "      <td>Illinois</td>\n",
              "      <td>United States</td>\n",
              "      <td>Yes</td>\n",
              "      <td>NaN</td>\n",
              "      <td>NaN</td>\n",
              "      <td>NaN</td>\n",
              "      <td>Main site</td>\n",
              "      <td>2022-02-08</td>\n",
              "      <td>17114.83</td>\n",
              "      <td>39</td>\n",
              "      <td>24</td>\n",
              "      <td>1</td>\n",
              "    </tr>\n",
              "  </tbody>\n",
              "</table>\n",
              "</div>\n",
              "      <button class=\"colab-df-convert\" onclick=\"convertToInteractive('df-9eac4a27-1705-4367-b7b9-d57a5873b69b')\"\n",
              "              title=\"Convert this dataframe to an interactive table.\"\n",
              "              style=\"display:none;\">\n",
              "        \n",
              "  <svg xmlns=\"http://www.w3.org/2000/svg\" height=\"24px\"viewBox=\"0 0 24 24\"\n",
              "       width=\"24px\">\n",
              "    <path d=\"M0 0h24v24H0V0z\" fill=\"none\"/>\n",
              "    <path d=\"M18.56 5.44l.94 2.06.94-2.06 2.06-.94-2.06-.94-.94-2.06-.94 2.06-2.06.94zm-11 1L8.5 8.5l.94-2.06 2.06-.94-2.06-.94L8.5 2.5l-.94 2.06-2.06.94zm10 10l.94 2.06.94-2.06 2.06-.94-2.06-.94-.94-2.06-.94 2.06-2.06.94z\"/><path d=\"M17.41 7.96l-1.37-1.37c-.4-.4-.92-.59-1.43-.59-.52 0-1.04.2-1.43.59L10.3 9.45l-7.72 7.72c-.78.78-.78 2.05 0 2.83L4 21.41c.39.39.9.59 1.41.59.51 0 1.02-.2 1.41-.59l7.78-7.78 2.81-2.81c.8-.78.8-2.07 0-2.86zM5.41 20L4 18.59l7.72-7.72 1.47 1.35L5.41 20z\"/>\n",
              "  </svg>\n",
              "      </button>\n",
              "      \n",
              "  <style>\n",
              "    .colab-df-container {\n",
              "      display:flex;\n",
              "      flex-wrap:wrap;\n",
              "      gap: 12px;\n",
              "    }\n",
              "\n",
              "    .colab-df-convert {\n",
              "      background-color: #E8F0FE;\n",
              "      border: none;\n",
              "      border-radius: 50%;\n",
              "      cursor: pointer;\n",
              "      display: none;\n",
              "      fill: #1967D2;\n",
              "      height: 32px;\n",
              "      padding: 0 0 0 0;\n",
              "      width: 32px;\n",
              "    }\n",
              "\n",
              "    .colab-df-convert:hover {\n",
              "      background-color: #E2EBFA;\n",
              "      box-shadow: 0px 1px 2px rgba(60, 64, 67, 0.3), 0px 1px 3px 1px rgba(60, 64, 67, 0.15);\n",
              "      fill: #174EA6;\n",
              "    }\n",
              "\n",
              "    [theme=dark] .colab-df-convert {\n",
              "      background-color: #3B4455;\n",
              "      fill: #D2E3FC;\n",
              "    }\n",
              "\n",
              "    [theme=dark] .colab-df-convert:hover {\n",
              "      background-color: #434B5C;\n",
              "      box-shadow: 0px 1px 3px 1px rgba(0, 0, 0, 0.15);\n",
              "      filter: drop-shadow(0px 1px 2px rgba(0, 0, 0, 0.3));\n",
              "      fill: #FFFFFF;\n",
              "    }\n",
              "  </style>\n",
              "\n",
              "      <script>\n",
              "        const buttonEl =\n",
              "          document.querySelector('#df-9eac4a27-1705-4367-b7b9-d57a5873b69b button.colab-df-convert');\n",
              "        buttonEl.style.display =\n",
              "          google.colab.kernel.accessAllowed ? 'block' : 'none';\n",
              "\n",
              "        async function convertToInteractive(key) {\n",
              "          const element = document.querySelector('#df-9eac4a27-1705-4367-b7b9-d57a5873b69b');\n",
              "          const dataTable =\n",
              "            await google.colab.kernel.invokeFunction('convertToInteractive',\n",
              "                                                     [key], {});\n",
              "          if (!dataTable) return;\n",
              "\n",
              "          const docLinkHtml = 'Like what you see? Visit the ' +\n",
              "            '<a target=\"_blank\" href=https://colab.research.google.com/notebooks/data_table.ipynb>data table notebook</a>'\n",
              "            + ' to learn more about interactive tables.';\n",
              "          element.innerHTML = '';\n",
              "          dataTable['output_type'] = 'display_data';\n",
              "          await google.colab.output.renderOutput(dataTable, element);\n",
              "          const docLink = document.createElement('div');\n",
              "          docLink.innerHTML = docLinkHtml;\n",
              "          element.appendChild(docLink);\n",
              "        }\n",
              "      </script>\n",
              "    </div>\n",
              "  </div>\n",
              "  "
            ]
          },
          "metadata": {},
          "execution_count": 74
        }
      ],
      "source": [
        "member.head()"
      ]
    },
    {
      "cell_type": "code",
      "execution_count": null,
      "metadata": {
        "id": "swJfxnB9OoYA"
      },
      "outputs": [],
      "source": [
        "# member[member.columns[member.isnull().any()]].isnull().sum()"
      ]
    },
    {
      "cell_type": "code",
      "execution_count": null,
      "metadata": {
        "id": "m7Ex0I4LOoYA"
      },
      "outputs": [],
      "source": [
        "# member_cleaned = member.drop(columns=['Email', 'Enrolled Via','Enrollment Date'])"
      ]
    },
    {
      "cell_type": "code",
      "execution_count": null,
      "metadata": {
        "id": "G3mvxZd4OoYA"
      },
      "outputs": [],
      "source": [
        "# member_cleaned.columns"
      ]
    },
    {
      "cell_type": "code",
      "execution_count": null,
      "metadata": {
        "id": "1AOLuNOHOoYA"
      },
      "outputs": [],
      "source": [
        "# member_cleaned[member_cleaned.columns[member_cleaned.isnull().any()]].isnull().sum()"
      ]
    },
    {
      "cell_type": "code",
      "source": [
        "# member['Gender'] = member['Gender'].replace(['Unknown', 'Male', 'Female'], [0, 1, 2])"
      ],
      "metadata": {
        "id": "h-atV9o2qlj5"
      },
      "execution_count": null,
      "outputs": []
    },
    {
      "cell_type": "code",
      "source": [
        "member['Gender'] = pd.factorize(member['Gender'])[0]\n",
        "member['Marital status'] = pd.factorize(member['Marital status'])[0]\n",
        "member['City'] = pd.factorize(member['City'])[0]\n",
        "member['State'] = pd.factorize(member['State'])[0]\n",
        "member['Country'] = pd.factorize(member['Country'])[0]\n",
        "member['Class of'] = pd.factorize(member['Class of'])[0]\n",
        "member['College'] = pd.factorize(member['College'])[0]\n",
        "member['Degree'] = pd.factorize(member['Degree'])[0]\n",
        "member['Enrolled Via'] = pd.factorize(member['Enrolled Via'])[0]\n",
        "\n",
        "# Create X and y variables\n",
        "X = member[['Age', 'Gender', 'Marital status', 'City',\t'State',\t'Country',\t'Class of',\t'College',\t'Degree','Enrolled Via']]\n",
        "y = member['If Donated']\n",
        "\n",
        "# Fit logistic regression model\n",
        "model = sm.Logit(y, X).fit()\n",
        "\n",
        "# Print model summary\n",
        "print(model.summary())"
      ],
      "metadata": {
        "colab": {
          "base_uri": "https://localhost:8080/"
        },
        "id": "0-FML210rVWp",
        "outputId": "bd2e82e8-d33e-4388-967d-875b11ca0345"
      },
      "execution_count": null,
      "outputs": [
        {
          "output_type": "stream",
          "name": "stdout",
          "text": [
            "Optimization terminated successfully.\n",
            "         Current function value: 0.497405\n",
            "         Iterations 6\n",
            "                           Logit Regression Results                           \n",
            "==============================================================================\n",
            "Dep. Variable:             If Donated   No. Observations:                  770\n",
            "Model:                          Logit   Df Residuals:                      760\n",
            "Method:                           MLE   Df Model:                            9\n",
            "Date:                Wed, 26 Apr 2023   Pseudo R-squ.:                0.009543\n",
            "Time:                        23:43:31   Log-Likelihood:                -383.00\n",
            "converged:                       True   LL-Null:                       -386.69\n",
            "Covariance Type:            nonrobust   LLR p-value:                    0.5976\n",
            "==================================================================================\n",
            "                     coef    std err          z      P>|z|      [0.025      0.975]\n",
            "----------------------------------------------------------------------------------\n",
            "Age               -0.0072      0.003     -2.320      0.020      -0.013      -0.001\n",
            "Gender            -0.3214      0.167     -1.919      0.055      -0.650       0.007\n",
            "Marital status    -0.2305      0.075     -3.060      0.002      -0.378      -0.083\n",
            "City              -0.0033      0.001     -4.689      0.000      -0.005      -0.002\n",
            "State              0.0109      0.008      1.357      0.175      -0.005       0.027\n",
            "Country            0.1727      0.103      1.681      0.093      -0.029       0.374\n",
            "Class of           0.0020      0.005      0.409      0.683      -0.008       0.012\n",
            "College           -0.0503      0.026     -1.937      0.053      -0.101       0.001\n",
            "Degree            -0.0100      0.012     -0.856      0.392      -0.033       0.013\n",
            "Enrolled Via       0.1425      0.081      1.769      0.077      -0.015       0.300\n",
            "==================================================================================\n"
          ]
        }
      ]
    },
    {
      "cell_type": "code",
      "execution_count": null,
      "metadata": {
        "id": "TCbdPTZXOoYB"
      },
      "outputs": [],
      "source": [
        "import statsmodels.api as sm\n",
        "from sklearn.linear_model import LogisticRegression\n",
        "from sklearn.model_selection import train_test_split\n",
        "from sklearn.metrics import accuracy_score, confusion_matrix, classification_report"
      ]
    },
    {
      "cell_type": "code",
      "source": [
        "# Split the data into training and testing sets\n",
        "X_train, X_test, y_train, y_test = train_test_split(X, y, test_size=0.2, random_state=0)\n",
        "\n",
        "# Train the logistic regression model\n",
        "logreg = LogisticRegression()\n",
        "logreg.fit(X_train, y_train)\n",
        "\n",
        "# Make predictions on the test set\n",
        "y_pred = logreg.predict(X_test)\n",
        "\n",
        "# Evaluate the model\n",
        "print(confusion_matrix(y_test, y_pred))\n",
        "print(classification_report(y_test, y_pred))"
      ],
      "metadata": {
        "colab": {
          "base_uri": "https://localhost:8080/"
        },
        "id": "iPYMQhflveGQ",
        "outputId": "d968ea76-4efc-4cfa-be89-ae50d6457093"
      },
      "execution_count": null,
      "outputs": [
        {
          "output_type": "stream",
          "name": "stdout",
          "text": [
            "[[126   0]\n",
            " [ 28   0]]\n",
            "              precision    recall  f1-score   support\n",
            "\n",
            "           0       0.82      1.00      0.90       126\n",
            "           1       0.00      0.00      0.00        28\n",
            "\n",
            "    accuracy                           0.82       154\n",
            "   macro avg       0.41      0.50      0.45       154\n",
            "weighted avg       0.67      0.82      0.74       154\n",
            "\n"
          ]
        },
        {
          "output_type": "stream",
          "name": "stderr",
          "text": [
            "/usr/local/lib/python3.9/dist-packages/sklearn/linear_model/_logistic.py:458: ConvergenceWarning: lbfgs failed to converge (status=1):\n",
            "STOP: TOTAL NO. of ITERATIONS REACHED LIMIT.\n",
            "\n",
            "Increase the number of iterations (max_iter) or scale the data as shown in:\n",
            "    https://scikit-learn.org/stable/modules/preprocessing.html\n",
            "Please also refer to the documentation for alternative solver options:\n",
            "    https://scikit-learn.org/stable/modules/linear_model.html#logistic-regression\n",
            "  n_iter_i = _check_optimize_result(\n",
            "/usr/local/lib/python3.9/dist-packages/sklearn/metrics/_classification.py:1344: UndefinedMetricWarning: Precision and F-score are ill-defined and being set to 0.0 in labels with no predicted samples. Use `zero_division` parameter to control this behavior.\n",
            "  _warn_prf(average, modifier, msg_start, len(result))\n",
            "/usr/local/lib/python3.9/dist-packages/sklearn/metrics/_classification.py:1344: UndefinedMetricWarning: Precision and F-score are ill-defined and being set to 0.0 in labels with no predicted samples. Use `zero_division` parameter to control this behavior.\n",
            "  _warn_prf(average, modifier, msg_start, len(result))\n",
            "/usr/local/lib/python3.9/dist-packages/sklearn/metrics/_classification.py:1344: UndefinedMetricWarning: Precision and F-score are ill-defined and being set to 0.0 in labels with no predicted samples. Use `zero_division` parameter to control this behavior.\n",
            "  _warn_prf(average, modifier, msg_start, len(result))\n"
          ]
        }
      ]
    }
  ],
  "metadata": {
    "kernelspec": {
      "display_name": "Python 3",
      "language": "python",
      "name": "python3"
    },
    "language_info": {
      "codemirror_mode": {
        "name": "ipython",
        "version": 3
      },
      "file_extension": ".py",
      "mimetype": "text/x-python",
      "name": "python",
      "nbconvert_exporter": "python",
      "pygments_lexer": "ipython3",
      "version": "3.8.5"
    },
    "colab": {
      "provenance": []
    }
  },
  "nbformat": 4,
  "nbformat_minor": 0
}